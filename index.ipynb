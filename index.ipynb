{
 "cells": [
  {
   "cell_type": "markdown",
   "metadata": {},
   "source": [
    "# Skewness and Kurtosis - Lab"
   ]
  },
  {
   "cell_type": "markdown",
   "metadata": {},
   "source": [
    "## Introduction\n",
    "\n",
    "In this lab, we shall look at calculating skewness and kurtosis for a given dataset in python and SciPy. \n",
    "\n",
    "## Objectives\n",
    "You will be able to:\n",
    "* Measure, visualize, and interpret the kurtosis of a dataset\n",
    "* Measure, visualize, and interpret the skewness of a dataset"
   ]
  },
  {
   "cell_type": "markdown",
   "metadata": {},
   "source": [
    "## Bring in SciPy\n",
    "In the previous lesson, we have seen formulas for calculating skewness and kurtosis for a given dataset. Scipy comes packaged with these functions and  provides an easy way to calculate these two quantities, see [scipy.stats.kurtosis](https://docs.scipy.org/doc/scipy/reference/generated/scipy.stats.kurtosis.html#scipy.stats.kurtosis) and [scipy.stats.skew](scipy.stats.skew). Check out the official SciPy documentation for digging deeper into this. Right now we can use format: \n",
    "> **scipy.stats.kurtosis(x)**\n",
    "\n",
    "> **scipy.stats.skew(x)**\n",
    "\n",
    "Where x is a random continuous variable. \n",
    "\n",
    "We shall generate two synthetic datasets and measure/visualize and compare their skew and kurtosis in this lab. So lets get to it."
   ]
  },
  {
   "cell_type": "code",
   "execution_count": 2,
   "metadata": {},
   "outputs": [],
   "source": [
    "# Import required libraries\n",
    "import numpy as np\n",
    "import matplotlib.pyplot as plt\n",
    "\n",
    "from scipy.stats import kurtosis, skew"
   ]
  },
  {
   "cell_type": "markdown",
   "metadata": {},
   "source": [
    "## Take 1\n",
    "Perform following steps\n",
    "* Generate a random normal variable `x_random` in numpy with 10,000 values. Set the mean value to 0 and standard deviation to 2\n",
    "* Plot a histogram for data, set bins to `auto` (default). \n",
    "* Calculate the skewness and kurtosis for this data distribution using above functions. \n",
    "* Record your observations about calculated values and shape of the data. "
   ]
  },
  {
   "cell_type": "code",
   "execution_count": 7,
   "metadata": {},
   "outputs": [
    {
     "data": {
      "text/plain": [
       "(array([  1.,   0.,   0.,   1.,   0.,   1.,   3.,   3.,   3.,   6.,   6.,\n",
       "          5.,   5.,  12.,   9.,  14.,  11.,  20.,  11.,  18.,  18.,  39.,\n",
       "         38.,  65.,  48.,  48.,  55.,  81.,  93., 112., 110., 125., 159.,\n",
       "        175., 190., 175., 200., 220., 228., 244., 262., 255., 268., 286.,\n",
       "        293., 290., 304., 313., 309., 300., 316., 299., 308., 287., 281.,\n",
       "        253., 267., 248., 230., 230., 216., 206., 173., 153., 132., 109.,\n",
       "        125., 107.,  90.,  78.,  73.,  59.,  55.,  47.,  40.,  24.,  36.,\n",
       "         26.,  13.,  11.,  17.,  14.,   7.,   6.,   9.,   1.,   5.,   3.,\n",
       "          2.,   4.,   1.,   3.,   1.,   1.,   0.,   0.,   1.,   0.,   0.,\n",
       "          1.]),\n",
       " array([-7.5402977 , -7.38471518, -7.22913266, -7.07355014, -6.91796761,\n",
       "        -6.76238509, -6.60680257, -6.45122004, -6.29563752, -6.140055  ,\n",
       "        -5.98447247, -5.82888995, -5.67330743, -5.51772491, -5.36214238,\n",
       "        -5.20655986, -5.05097734, -4.89539481, -4.73981229, -4.58422977,\n",
       "        -4.42864725, -4.27306472, -4.1174822 , -3.96189968, -3.80631715,\n",
       "        -3.65073463, -3.49515211, -3.33956958, -3.18398706, -3.02840454,\n",
       "        -2.87282202, -2.71723949, -2.56165697, -2.40607445, -2.25049192,\n",
       "        -2.0949094 , -1.93932688, -1.78374435, -1.62816183, -1.47257931,\n",
       "        -1.31699679, -1.16141426, -1.00583174, -0.85024922, -0.69466669,\n",
       "        -0.53908417, -0.38350165, -0.22791913, -0.0723366 ,  0.08324592,\n",
       "         0.23882844,  0.39441097,  0.54999349,  0.70557601,  0.86115854,\n",
       "         1.01674106,  1.17232358,  1.3279061 ,  1.48348863,  1.63907115,\n",
       "         1.79465367,  1.9502362 ,  2.10581872,  2.26140124,  2.41698377,\n",
       "         2.57256629,  2.72814881,  2.88373133,  3.03931386,  3.19489638,\n",
       "         3.3504789 ,  3.50606143,  3.66164395,  3.81722647,  3.97280899,\n",
       "         4.12839152,  4.28397404,  4.43955656,  4.59513909,  4.75072161,\n",
       "         4.90630413,  5.06188666,  5.21746918,  5.3730517 ,  5.52863422,\n",
       "         5.68421675,  5.83979927,  5.99538179,  6.15096432,  6.30654684,\n",
       "         6.46212936,  6.61771189,  6.77329441,  6.92887693,  7.08445945,\n",
       "         7.24004198,  7.3956245 ,  7.55120702,  7.70678955,  7.86237207,\n",
       "         8.01795459]),\n",
       " <a list of 100 Patch objects>)"
      ]
     },
     "execution_count": 7,
     "metadata": {},
     "output_type": "execute_result"
    },
    {
     "data": {
      "image/png": "[encoded data removed]",
      "text/plain": [
       "<Figure size 432x288 with 1 Axes>"
      ]
     },
     "metadata": {
      "needs_background": "light"
     },
     "output_type": "display_data"
    }
   ],
   "source": [
    "import numpy as np\n",
    "import seaborn as sns\n",
    "\n",
    "mu, sigma = 0, 2\n",
    "N = 10000\n",
    "x_random = np.random.normal(mu, sigma, N)\n",
    "import numpy as np\n",
    "import seaborn as sns\n",
    "plt.hist(x_random, bins =7)\n",
    "# Skewness = -0.0025781248189666343\n",
    "# kurtosis = 0.03976806960642154\n"
   ]
  },
  {
   "cell_type": "code",
   "execution_count": null,
   "metadata": {
    "collapsed": true
   },
   "outputs": [],
   "source": [
    "# Your observations here \n",
    "\n",
    "\n",
    "\n",
    "\n",
    "\n",
    "\n",
    "#"
   ]
  },
  {
   "cell_type": "markdown",
   "metadata": {},
   "source": [
    "## Take 2\n",
    "\n",
    "Let's generate another distribution "
   ]
  },
  {
   "cell_type": "code",
   "execution_count": 9,
   "metadata": {},
   "outputs": [],
   "source": [
    "x = np.linspace( -5, 5, 10000 )\n",
    "y = 1./(np.sqrt(2.*np.pi)) * np.exp( -.5*(x)**2  )  # normal distribution"
   ]
  },
  {
   "cell_type": "markdown",
   "metadata": {},
   "source": [
    "Just like above, perform following steps\n",
    "\n",
    "* Plot a histogram for data (y), set bins to auto (default).\n",
    "* Calculate the skewness and kurtosis for this data distribution using above functions.\n",
    "* Record your observations about calculated values and shape of the data."
   ]
  },
  {
   "cell_type": "code",
   "execution_count": 11,
   "metadata": {},
   "outputs": [
    {
     "name": "stdout",
     "output_type": "stream",
     "text": [
      "Skewness = 1.109511549276228\n",
      "kurtosis = -0.31039027765889804\n"
     ]
    },
    {
     "data": {
      "image/png": "[encoded data removed]",
      "text/plain": [
       "<matplotlib.figure.Figure at 0x1a13d45e10>"
      ]
     },
     "metadata": {},
     "output_type": "display_data"
    }
   ],
   "source": [
    "\n",
    "\n",
    "# Skewness = 1.109511549276228\n",
    "# kurtosis = -0.31039027765889804"
   ]
  },
  {
   "cell_type": "code",
   "execution_count": null,
   "metadata": {},
   "outputs": [],
   "source": [
    "# Your observations here \n",
    "\n",
    "\n",
    "\n",
    "\n",
    "\n",
    "\n",
    "\n",
    "#"
   ]
  },
  {
   "cell_type": "markdown",
   "metadata": {},
   "source": [
    "## Level up (Optional)"
   ]
  },
  {
   "cell_type": "markdown",
   "metadata": {},
   "source": [
    "Use the formulas given in th previous lesson to calculate skewness and kurtosis with numpy only. Compare your results to the ones shown using Scipy. Do you see any differences in the results? Try at least one other method to calculate skewness and compare the results to previous ones. "
   ]
  },
  {
   "cell_type": "markdown",
   "metadata": {},
   "source": [
    "## Summary\n",
    "\n",
    "In this lesson we learned how to calculate, visualize and analyze the skewness and kurtosis for any given distribution. We worked with synthetic datasets at this stage to get the concepts cleared up. Later we shall try these techniques on real datasets to see if they are fit for analysis (or not). "
   ]
  }
 ],
 "metadata": {
  "kernelspec": {
   "display_name": "Python 3",
   "language": "python",
   "name": "python3"
  },
  "language_info": {
   "codemirror_mode": {
    "name": "ipython",
    "version": 3
   },
   "file_extension": ".py",
   "mimetype": "text/x-python",
   "name": "python",
   "nbconvert_exporter": "python",
   "pygments_lexer": "ipython3",
   "version": "3.6.6"
  }
 },
 "nbformat": 4,
 "nbformat_minor": 2
}
