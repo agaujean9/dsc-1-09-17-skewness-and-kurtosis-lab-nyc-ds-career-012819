{
 "cells": [
  {
   "cell_type": "markdown",
   "metadata": {},
   "source": [
    "# Skewness and Kurtosis - Lab"
   ]
  },
  {
   "cell_type": "markdown",
   "metadata": {},
   "source": [
    "## Introduction\n",
    "\n",
    "In this lab, we shall look at calculating skewness and kurtosis for a given dataset in python and SciPy. \n",
    "\n",
    "## Objectives\n",
    "You will be able to:\n",
    "* Measure, visualize, and interpret the kurtosis of a dataset\n",
    "* Measure, visualize, and interpret the skewness of a dataset"
   ]
  },
  {
   "cell_type": "markdown",
   "metadata": {},
   "source": [
    "## Bring in SciPy\n",
    "In the previous lesson, we have seen formulas for calculating skewness and kurtosis for a given dataset. Scipy comes packaged with these functions and  provides an easy way to calculate these two quantities, see [scipy.stats.kurtosis](https://docs.scipy.org/doc/scipy/reference/generated/scipy.stats.kurtosis.html#scipy.stats.kurtosis) and [scipy.stats.skew](scipy.stats.skew). Check out the official SciPy documentation for digging deeper into this. Right now we can use format: \n",
    "> **scipy.stats.kurtosis(x)**\n",
    "\n",
    "> **scipy.stats.skew(x)**\n",
    "\n",
    "Where x is a random continuous variable. \n",
    "\n",
    "We shall generate two synthetic datasets and measure/visualize and compare their skew and kurtosis in this lab. So lets get to it."
   ]
  },
  {
   "cell_type": "code",
   "execution_count": 2,
   "metadata": {},
   "outputs": [],
   "source": [
    "# Import required libraries\n",
    "import numpy as np\n",
    "import matplotlib.pyplot as plt\n",
    "\n",
    "from scipy.stats import kurtosis, skew"
   ]
  },
  {
   "cell_type": "markdown",
   "metadata": {},
   "source": [
    "## Take 1\n",
    "Perform following steps\n",
    "* Generate a random normal variable `x_random` in numpy with 10,000 values. Set the mean value to 0 and standard deviation to 2\n",
    "* Plot a histogram for data, set bins to `auto` (default). \n",
    "* Calculate the skewness and kurtosis for this data distribution using above functions. \n",
    "* Record your observations about calculated values and shape of the data. "
   ]
  },
  {
   "cell_type": "code",
   "execution_count": 6,
   "metadata": {},
   "outputs": [
    {
     "data": {
      "text/plain": [
       "(array([ 1.,  0.,  0.,  0.,  0.,  0.,  0.,  0.,  0.,  0.,  0.,  0.,  0.,\n",
       "         0.,  0.,  0.,  0.,  0.,  1.,  0.,  0.,  0.,  0.,  0.,  0.,  0.,\n",
       "         1.,  0.,  0.,  0.,  0.,  0.,  1.,  0.,  0.,  0.,  0.,  0.,  0.,\n",
       "         0.,  0.,  0.,  0.,  0.,  0.,  0.,  0.,  0.,  0.,  0.,  1.,  0.,\n",
       "         0.,  0.,  0.,  0.,  0.,  0.,  0.,  0.,  0.,  0.,  0.,  1.,  0.,\n",
       "         0.,  0.,  0.,  0.,  0.,  0.,  0.,  0.,  0.,  0.,  0.,  0.,  0.,\n",
       "         0.,  0.,  0.,  0.,  0.,  0.,  0.,  0.,  0.,  0.,  0.,  0.,  0.,\n",
       "         0.,  0.,  0.,  0.,  0.,  0.,  1.,  0.,  0.,  1.,  0.,  0.,  1.,\n",
       "         0.,  1.,  1.,  1.,  0.,  1.,  0.,  0.,  0.,  1.,  0.,  0.,  1.,\n",
       "         0.,  0.,  0.,  0.,  0.,  0.,  0.,  1.,  1.,  0.,  0.,  0.,  0.,\n",
       "         0.,  1.,  0.,  0.,  0.,  0.,  0.,  0.,  0.,  1.,  0.,  1.,  1.,\n",
       "         0.,  1.,  0.,  0.,  0.,  0.,  2.,  2.,  1.,  0.,  0.,  3.,  1.,\n",
       "         1.,  0.,  2.,  0.,  0.,  1.,  0.,  0.,  0.,  0.,  1.,  2.,  0.,\n",
       "         0.,  1.,  0.,  1.,  2.,  0.,  4.,  1.,  0.,  0.,  1.,  0.,  1.,\n",
       "         0.,  0.,  3.,  0.,  1.,  1.,  2.,  0.,  1.,  0.,  1.,  2.,  0.,\n",
       "         0.,  0.,  3.,  0.,  3.,  2.,  0.,  2.,  1.,  3.,  1.,  1.,  0.,\n",
       "         0.,  0.,  3.,  1.,  0.,  2.,  1.,  5.,  1.,  1.,  2.,  3.,  3.,\n",
       "         1.,  0.,  3.,  3.,  4.,  0.,  2.,  3.,  1.,  3.,  2.,  5.,  3.,\n",
       "         1.,  4.,  4.,  5.,  2.,  2.,  2.,  3.,  2.,  1.,  2.,  4.,  1.,\n",
       "         5.,  2.,  4.,  1.,  5.,  4.,  4.,  5.,  4.,  5.,  2.,  3.,  4.,\n",
       "         4.,  3.,  6.,  5.,  6.,  2.,  3.,  4.,  0.,  2.,  4.,  1.,  5.,\n",
       "         5.,  7.,  6., 10.,  0.,  6.,  5.,  4.,  3.,  6.,  5.,  4.,  5.,\n",
       "         7.,  9.,  6.,  7.,  9.,  7.,  9.,  7.,  7.,  6.,  5.,  7.,  8.,\n",
       "         4.,  4.,  3.,  8.,  3.,  4.,  7.,  7.,  5.,  6.,  5.,  9.,  6.,\n",
       "         9., 12., 13.,  4.,  7., 11.,  7.,  6., 12., 13., 12.,  9., 13.,\n",
       "         6., 11., 11., 12., 13.,  6., 10., 10.,  7., 13., 13., 11., 10.,\n",
       "        10., 14., 13., 19., 19., 13., 15., 12., 12.,  8., 13., 15., 12.,\n",
       "         9., 11., 19.,  9., 16., 16., 13., 14., 16.,  8.,  9., 11., 16.,\n",
       "        14., 16., 14., 13., 11., 14.,  9., 14., 13., 15., 17., 21., 23.,\n",
       "        16., 16., 11., 24., 11., 15., 10., 17., 15., 17., 19., 22., 10.,\n",
       "        15., 22., 17., 17., 21., 30., 17., 13., 20., 34., 21., 19., 19.,\n",
       "        16., 28., 17., 20., 21., 20., 18., 18., 28., 25., 22., 29., 22.,\n",
       "        27., 20., 25., 13., 20., 28., 23., 25., 20., 20., 26., 25., 28.,\n",
       "        36., 24., 23., 22., 19., 26., 26., 23., 27., 19., 22., 23., 24.,\n",
       "        25., 20., 27., 29., 34., 26., 23., 28., 25., 25., 23., 32., 28.,\n",
       "        29., 26., 27., 26., 29., 26., 26., 36., 32., 32., 23., 20., 31.,\n",
       "        29., 30., 24., 32., 30., 24., 34., 37., 24., 31., 21., 26., 43.,\n",
       "        27., 28., 46., 25., 25., 36., 31., 30., 29., 26., 26., 33., 29.,\n",
       "        22., 43., 30., 37., 26., 36., 27., 27., 27., 27., 34., 20., 28.,\n",
       "        32., 29., 30., 22., 33., 27., 38., 24., 36., 30., 33., 46., 28.,\n",
       "        33., 29., 29., 35., 26., 24., 26., 31., 36., 29., 42., 32., 33.,\n",
       "        32., 28., 30., 38., 27., 36., 28., 33., 37., 31., 30., 27., 26.,\n",
       "        30., 36., 17., 29., 32., 31., 27., 33., 27., 33., 24., 18., 35.,\n",
       "        37., 25., 25., 26., 29., 25., 20., 27., 28., 41., 30., 31., 31.,\n",
       "        28., 30., 32., 27., 25., 30., 19., 31., 30., 27., 32., 26., 28.,\n",
       "        29., 32., 29., 30., 22., 27., 18., 33., 23., 35., 30., 20., 17.,\n",
       "        33., 20., 30., 24., 19., 23., 14., 35., 21., 23., 18., 23., 26.,\n",
       "        25., 21., 21., 23., 22., 26., 21., 20., 20., 20., 24., 23., 27.,\n",
       "        18., 17., 20., 15., 25., 24., 29., 26., 16., 23., 20., 13., 21.,\n",
       "        18., 28., 21., 28., 20., 24., 29., 21., 20., 19., 24., 16., 14.,\n",
       "        12., 25., 25., 21., 20., 23., 18., 20., 16., 18., 19., 18., 30.,\n",
       "         8., 17., 17., 10., 21., 13.,  9., 12., 15., 16., 15., 14., 24.,\n",
       "        14., 17., 17., 12.,  8., 13., 15., 12., 12., 10., 19., 19., 20.,\n",
       "        22.,  5.,  9., 12., 19., 10.,  8., 16., 19., 10., 10., 13., 17.,\n",
       "        15., 12.,  9.,  9.,  9., 10.,  7., 10., 12., 16., 11., 16., 11.,\n",
       "        14., 10., 11., 11.,  8.,  5., 13., 12., 12.,  7.,  5.,  7., 11.,\n",
       "         9., 11.,  9.,  7., 10.,  7.,  4.,  5.,  5.,  9.,  9.,  6.,  5.,\n",
       "         5., 11.,  7., 10.,  7.,  6.,  5.,  6.,  5.,  8.,  5., 10.,  6.,\n",
       "         7.,  7.,  4.,  6.,  8.,  7.,  6.,  5.,  6.,  4.,  5.,  9.,  8.,\n",
       "         9., 11.,  3.,  4.,  4.,  6.,  3.,  3.,  2.,  2., 10.,  5.,  8.,\n",
       "         3.,  4.,  5.,  3.,  1.,  5.,  6.,  3.,  4.,  2.,  7.,  2.,  3.,\n",
       "         2.,  5.,  4.,  7.,  7.,  4.,  4.,  1.,  5.,  5.,  2.,  5.,  2.,\n",
       "         2.,  2.,  4.,  2.,  0.,  1.,  2.,  2.,  1.,  2.,  3.,  1.,  4.,\n",
       "         4.,  2.,  2.,  2.,  2.,  6.,  2.,  1.,  1.,  5.,  1.,  0.,  4.,\n",
       "         0.,  0.,  3.,  3.,  1.,  0.,  1.,  2.,  1.,  1.,  1.,  2.,  2.,\n",
       "         3.,  1.,  2.,  1.,  2.,  1.,  0.,  0.,  0.,  1.,  2.,  2.,  2.,\n",
       "         0.,  0.,  0.,  0.,  0.,  0.,  0.,  0.,  0.,  0.,  0.,  4.,  1.,\n",
       "         0.,  0.,  2.,  0.,  0.,  1.,  1.,  2.,  2.,  1.,  0.,  1.,  0.,\n",
       "         0.,  0.,  0.,  0.,  0.,  2.,  1.,  0.,  1.,  1.,  1.,  0.,  1.,\n",
       "         0.,  1.,  0.,  1.,  1.,  0.,  1.,  0.,  0.,  0.,  0.,  0.,  0.,\n",
       "         0.,  0.,  0.,  0.,  0.,  0.,  0.,  0.,  0.,  1.,  1.,  1.,  1.,\n",
       "         0.,  1.,  0.,  0.,  0.,  0.,  0.,  0.,  0.,  0.,  0.,  0.,  0.,\n",
       "         0.,  0.,  0.,  1.,  0.,  0.,  0.,  0.,  0.,  1.,  0.,  0.,  0.,\n",
       "         2.,  0.,  0.,  0.,  0.,  0.,  1.,  0.,  0.,  0.,  0.,  0.,  0.,\n",
       "         1.,  0.,  0.,  0.,  1.,  0.,  0.,  0.,  0.,  0.,  0.,  0.,  0.,\n",
       "         0.,  0.,  0.,  0.,  0.,  0.,  0.,  0.,  0.,  0.,  1.,  1.,  0.,\n",
       "         0.,  0.,  0.,  0.,  0.,  0.,  0.,  0.,  0.,  0.,  0.,  1.]),\n",
       " array([-8.07151448, -8.05607261, -8.04063074, ...,  7.33947075,\n",
       "         7.35491262,  7.37035449]),\n",
       " <a list of 1000 Patch objects>)"
      ]
     },
     "execution_count": 6,
     "metadata": {},
     "output_type": "execute_result"
    },
    {
     "data": {
      "image/png": "[encoded data removed]",
      "text/plain": [
       "<Figure size 432x288 with 1 Axes>"
      ]
     },
     "metadata": {
      "needs_background": "light"
     },
     "output_type": "display_data"
    }
   ],
   "source": [
    "import numpy as np\n",
    "import seaborn as sns\n",
    "\n",
    "mu, sigma = 0, 2\n",
    "N = 10000\n",
    "x_random = np.random.normal(mu, sigma, N)\n",
    "import numpy as np\n",
    "import seaborn as sns\n",
    "plt.hist(x_random, bins =1000)\n",
    "# Skewness = -0.0025781248189666343\n",
    "# kurtosis = 0.03976806960642154\n"
   ]
  },
  {
   "cell_type": "code",
   "execution_count": null,
   "metadata": {
    "collapsed": true
   },
   "outputs": [],
   "source": [
    "# Your observations here \n",
    "\n",
    "\n",
    "\n",
    "\n",
    "\n",
    "\n",
    "#"
   ]
  },
  {
   "cell_type": "markdown",
   "metadata": {},
   "source": [
    "## Take 2\n",
    "\n",
    "Let's generate another distribution "
   ]
  },
  {
   "cell_type": "code",
   "execution_count": 9,
   "metadata": {},
   "outputs": [],
   "source": [
    "x = np.linspace( -5, 5, 10000 )\n",
    "y = 1./(np.sqrt(2.*np.pi)) * np.exp( -.5*(x)**2  )  # normal distribution"
   ]
  },
  {
   "cell_type": "markdown",
   "metadata": {},
   "source": [
    "Just like above, perform following steps\n",
    "\n",
    "* Plot a histogram for data (y), set bins to auto (default).\n",
    "* Calculate the skewness and kurtosis for this data distribution using above functions.\n",
    "* Record your observations about calculated values and shape of the data."
   ]
  },
  {
   "cell_type": "code",
   "execution_count": 11,
   "metadata": {},
   "outputs": [
    {
     "name": "stdout",
     "output_type": "stream",
     "text": [
      "Skewness = 1.109511549276228\n",
      "kurtosis = -0.31039027765889804\n"
     ]
    },
    {
     "data": {
      "image/png": "[encoded data removed]",
      "text/plain": [
       "<matplotlib.figure.Figure at 0x1a13d45e10>"
      ]
     },
     "metadata": {},
     "output_type": "display_data"
    }
   ],
   "source": [
    "\n",
    "\n",
    "# Skewness = 1.109511549276228\n",
    "# kurtosis = -0.31039027765889804"
   ]
  },
  {
   "cell_type": "code",
   "execution_count": null,
   "metadata": {},
   "outputs": [],
   "source": [
    "# Your observations here \n",
    "\n",
    "\n",
    "\n",
    "\n",
    "\n",
    "\n",
    "\n",
    "#"
   ]
  },
  {
   "cell_type": "markdown",
   "metadata": {},
   "source": [
    "## Level up (Optional)"
   ]
  },
  {
   "cell_type": "markdown",
   "metadata": {},
   "source": [
    "Use the formulas given in th previous lesson to calculate skewness and kurtosis with numpy only. Compare your results to the ones shown using Scipy. Do you see any differences in the results? Try at least one other method to calculate skewness and compare the results to previous ones. "
   ]
  },
  {
   "cell_type": "markdown",
   "metadata": {},
   "source": [
    "## Summary\n",
    "\n",
    "In this lesson we learned how to calculate, visualize and analyze the skewness and kurtosis for any given distribution. We worked with synthetic datasets at this stage to get the concepts cleared up. Later we shall try these techniques on real datasets to see if they are fit for analysis (or not). "
   ]
  }
 ],
 "metadata": {
  "kernelspec": {
   "display_name": "Python 3",
   "language": "python",
   "name": "python3"
  },
  "language_info": {
   "codemirror_mode": {
    "name": "ipython",
    "version": 3
   },
   "file_extension": ".py",
   "mimetype": "text/x-python",
   "name": "python",
   "nbconvert_exporter": "python",
   "pygments_lexer": "ipython3",
   "version": "3.6.6"
  }
 },
 "nbformat": 4,
 "nbformat_minor": 2
}
